{
 "cells": [
  {
   "cell_type": "code",
   "execution_count": 6,
   "metadata": {},
   "outputs": [
    {
     "data": {
      "text/html": [
       "<pre style=\"white-space:pre;overflow-x:auto;line-height:normal;font-family:Menlo,'DejaVu Sans Mono',consolas,'Courier New',monospace\"><span style=\"color: #800080; text-decoration-color: #800080\">/Users/andre/ergodic/</span><span style=\"color: #ff00ff; text-decoration-color: #ff00ff\">tutai</span>\n",
       "</pre>\n"
      ],
      "text/plain": [
       "\u001b[35m/Users/andre/ergodic/\u001b[0m\u001b[95mtutai\u001b[0m\n"
      ]
     },
     "metadata": {},
     "output_type": "display_data"
    }
   ],
   "source": [
    "import pandas as pd\n",
    "import numpy as np\n",
    "import os\n",
    "from rich import print\n",
    "import seaborn as sns\n",
    "\n",
    "try:\n",
    "    __SETUP\n",
    "except:\n",
    "    # if we are in the notebooks folder, go up one level\n",
    "    path = os.getcwd()\n",
    "    if path.endswith(\"solutions\"):\n",
    "        os.chdir(\"..\")\n",
    "    __SETUP = 1\n",
    "\n",
    "print(os.getcwd())"
   ]
  },
  {
   "cell_type": "code",
   "execution_count": 57,
   "metadata": {},
   "outputs": [
    {
     "data": {
      "text/html": [
       "<div>\n",
       "<style scoped>\n",
       "    .dataframe tbody tr th:only-of-type {\n",
       "        vertical-align: middle;\n",
       "    }\n",
       "\n",
       "    .dataframe tbody tr th {\n",
       "        vertical-align: top;\n",
       "    }\n",
       "\n",
       "    .dataframe thead th {\n",
       "        text-align: right;\n",
       "    }\n",
       "</style>\n",
       "<table border=\"1\" class=\"dataframe\">\n",
       "  <thead>\n",
       "    <tr style=\"text-align: right;\">\n",
       "      <th></th>\n",
       "      <th>vaccine</th>\n",
       "      <th>age</th>\n",
       "      <th>gender</th>\n",
       "      <th>hospitalized</th>\n",
       "    </tr>\n",
       "  </thead>\n",
       "  <tbody>\n",
       "    <tr>\n",
       "      <th>0</th>\n",
       "      <td>True</td>\n",
       "      <td>62</td>\n",
       "      <td>True</td>\n",
       "      <td>False</td>\n",
       "    </tr>\n",
       "    <tr>\n",
       "      <th>1</th>\n",
       "      <td>False</td>\n",
       "      <td>50</td>\n",
       "      <td>True</td>\n",
       "      <td>False</td>\n",
       "    </tr>\n",
       "    <tr>\n",
       "      <th>2</th>\n",
       "      <td>True</td>\n",
       "      <td>62</td>\n",
       "      <td>True</td>\n",
       "      <td>False</td>\n",
       "    </tr>\n",
       "    <tr>\n",
       "      <th>3</th>\n",
       "      <td>False</td>\n",
       "      <td>31</td>\n",
       "      <td>True</td>\n",
       "      <td>False</td>\n",
       "    </tr>\n",
       "    <tr>\n",
       "      <th>4</th>\n",
       "      <td>True</td>\n",
       "      <td>90</td>\n",
       "      <td>True</td>\n",
       "      <td>False</td>\n",
       "    </tr>\n",
       "    <tr>\n",
       "      <th>5</th>\n",
       "      <td>False</td>\n",
       "      <td>24</td>\n",
       "      <td>False</td>\n",
       "      <td>False</td>\n",
       "    </tr>\n",
       "    <tr>\n",
       "      <th>6</th>\n",
       "      <td>True</td>\n",
       "      <td>76</td>\n",
       "      <td>False</td>\n",
       "      <td>False</td>\n",
       "    </tr>\n",
       "    <tr>\n",
       "      <th>7</th>\n",
       "      <td>True</td>\n",
       "      <td>37</td>\n",
       "      <td>False</td>\n",
       "      <td>False</td>\n",
       "    </tr>\n",
       "    <tr>\n",
       "      <th>8</th>\n",
       "      <td>True</td>\n",
       "      <td>43</td>\n",
       "      <td>True</td>\n",
       "      <td>False</td>\n",
       "    </tr>\n",
       "    <tr>\n",
       "      <th>9</th>\n",
       "      <td>False</td>\n",
       "      <td>72</td>\n",
       "      <td>False</td>\n",
       "      <td>False</td>\n",
       "    </tr>\n",
       "  </tbody>\n",
       "</table>\n",
       "</div>"
      ],
      "text/plain": [
       "   vaccine  age  gender  hospitalized\n",
       "0     True   62    True         False\n",
       "1    False   50    True         False\n",
       "2     True   62    True         False\n",
       "3    False   31    True         False\n",
       "4     True   90    True         False\n",
       "5    False   24   False         False\n",
       "6     True   76   False         False\n",
       "7     True   37   False         False\n",
       "8     True   43    True         False\n",
       "9    False   72   False         False"
      ]
     },
     "execution_count": 57,
     "metadata": {},
     "output_type": "execute_result"
    }
   ],
   "source": [
    "data = pd.read_csv(\"data/vaccine.csv\", index_col=0)\n",
    "# vaccine is a binary variable, 0 means not vaccinated, 1 means vaccinated\n",
    "# age is self explanatory\n",
    "# hospitalized is a binary variable, 0 means not hospitalized, 1 means hospitalized\n",
    "# gender is a binary variable, 1 means female, 0 means male\n",
    "data.head(10)"
   ]
  },
  {
   "cell_type": "code",
   "execution_count": 58,
   "metadata": {},
   "outputs": [
    {
     "data": {
      "text/plain": [
       "<seaborn.axisgrid.FacetGrid at 0x12eaf7410>"
      ]
     },
     "execution_count": 58,
     "metadata": {},
     "output_type": "execute_result"
    },
    {
     "data": {
      "image/png": "[encoded data removed]",
      "text/plain": [
       "<Figure size 511.111x500 with 1 Axes>"
      ]
     },
     "metadata": {},
     "output_type": "display_data"
    }
   ],
   "source": [
    "sns.catplot(data, x=\"vaccine\", y=\"hospitalized\", kind=\"bar\")"
   ]
  },
  {
   "cell_type": "code",
   "execution_count": 59,
   "metadata": {},
   "outputs": [
    {
     "data": {
      "text/plain": [
       "<seaborn.axisgrid.FacetGrid at 0x12bce6270>"
      ]
     },
     "execution_count": 59,
     "metadata": {},
     "output_type": "execute_result"
    },
    {
     "data": {
      "image/png": "[encoded data removed]",
      "text/plain": [
       "<Figure size 511.111x500 with 1 Axes>"
      ]
     },
     "metadata": {},
     "output_type": "display_data"
    }
   ],
   "source": [
    "data[\"age_group\"] = data[\"age\"] // 10\n",
    "sns.catplot(data, x=\"age_group\", y=\"hospitalized\", kind=\"bar\")"
   ]
  },
  {
   "cell_type": "code",
   "execution_count": 60,
   "metadata": {},
   "outputs": [
    {
     "data": {
      "text/plain": [
       "<seaborn.axisgrid.FacetGrid at 0x1025cae70>"
      ]
     },
     "execution_count": 60,
     "metadata": {},
     "output_type": "execute_result"
    },
    {
     "data": {
      "image/png": "[encoded data removed]",
      "text/plain": [
       "<Figure size 511.111x500 with 1 Axes>"
      ]
     },
     "metadata": {},
     "output_type": "display_data"
    }
   ],
   "source": [
    "sns.catplot(data, x=\"age_group\", y=\"vaccine\", kind=\"bar\")"
   ]
  },
  {
   "cell_type": "code",
   "execution_count": 61,
   "metadata": {},
   "outputs": [
    {
     "data": {
      "text/plain": [
       "<seaborn.axisgrid.FacetGrid at 0x177dda630>"
      ]
     },
     "execution_count": 61,
     "metadata": {},
     "output_type": "execute_result"
    },
    {
     "data": {
      "image/png": "[encoded data removed]",
      "text/plain": [
       "<Figure size 584.875x500 with 1 Axes>"
      ]
     },
     "metadata": {},
     "output_type": "display_data"
    }
   ],
   "source": [
    "## What is really driving hospitalizations?\n",
    "import seaborn as sns\n",
    "\n",
    "\n",
    "sns.catplot(data, x=\"age_group\", y=\"hospitalized\", hue=\"vaccine\", kind=\"bar\")"
   ]
  },
  {
   "cell_type": "markdown",
   "metadata": {},
   "source": [
    "Looks like something interesting is going on!\n",
    "\n",
    "- Overall, people who get vaccinated are more likely to be hospitalized!\n",
    "- Elderly people are more likely to get vaccinated.\n",
    "- Elderly people are more likely to be hospitalized.\n",
    "- At each age group, people who are vaccinated are less likely to be hospitalized.\n",
    "\n",
    "# Simpson's paradox!\n",
    "\n",
    " <img src=\"../assets/simpsons.png\" alt=\"Simpson's Paradox\" style=\"max-width: 600px; max-height: 600px;\">\n"
   ]
  },
  {
   "cell_type": "markdown",
   "metadata": {},
   "source": [
    "**Propensity**: The likelihood or tendency of an individual to receive a particular treatment (like vaccination) based on their observable characteristics. In our vaccine example, elderly people have a higher propensity to get vaccinated because they are at higher risk.\n",
    "\n",
    "**Confounding**: When a third variable influences both the treatment and the outcome, creating a spurious association between them or changing its structure. Age is a confounder here because it affects both vaccination rates (elderly get vaccinated more) and hospitalization rates (elderly are hospitalized more).\n"
   ]
  },
  {
   "cell_type": "markdown",
   "metadata": {},
   "source": [
    "# The simplest thing we can do\n"
   ]
  },
  {
   "cell_type": "markdown",
   "metadata": {},
   "source": [
    "Now, if you know one thing or two about econometrics, you know that the solution here is to somehow \"control for\" age in order to estimate the impact of vaccine on hospitalization. This is something known as a backdoor adjustment.\n",
    "\n",
    "Econometricians will also quickly point out that all you need is to add \"age\" as a regression variable and your problems are solved (provided that about 314 conditions are met) - [FWL Theorem](https://en.wikipedia.org/wiki/Frisch%E2%80%93Waugh%E2%80%93Lovell_theorem)\n",
    "\n",
    "Let's try that and see what happens!\n"
   ]
  },
  {
   "cell_type": "code",
   "execution_count": 62,
   "metadata": {},
   "outputs": [
    {
     "data": {
      "text/html": [
       "<pre style=\"white-space:pre;overflow-x:auto;line-height:normal;font-family:Menlo,'DejaVu Sans Mono',consolas,'Courier New',monospace\">Vaccine coefficient: <span style=\"color: #008080; text-decoration-color: #008080; font-weight: bold\">-0.306</span>\n",
       "</pre>\n"
      ],
      "text/plain": [
       "Vaccine coefficient: \u001b[1;36m-0.306\u001b[0m\n"
      ]
     },
     "metadata": {},
     "output_type": "display_data"
    },
    {
     "data": {
      "text/html": [
       "<pre style=\"white-space:pre;overflow-x:auto;line-height:normal;font-family:Menlo,'DejaVu Sans Mono',consolas,'Courier New',monospace\">Approximate change in probability of hospitalization: <span style=\"color: #008080; text-decoration-color: #008080; font-weight: bold\">-0.026</span>\n",
       "</pre>\n"
      ],
      "text/plain": [
       "Approximate change in probability of hospitalization: \u001b[1;36m-0.026\u001b[0m\n"
      ]
     },
     "metadata": {},
     "output_type": "display_data"
    }
   ],
   "source": [
    "# We've quickly faced a problem: our target is categorical, not a regression, but let's close our eyes and pretend we didn't see that.\n",
    "\n",
    "model = LogisticRegression()\n",
    "model.fit(data[[\"age\", \"gender\", \"vaccine\"]], data[\"hospitalized\"])\n",
    "\n",
    "# Convert logistic regression coefficient to probability change\n",
    "# The coefficient for vaccine is model.coef_[0][2]\n",
    "vaccine_coef = model.coef_[0][2]\n",
    "\n",
    "# For logistic regression, we can approximate the marginal effect\n",
    "# by multiplying the coefficient by p(1-p) where p is the mean probability\n",
    "mean_prob = data[\"hospitalized\"].mean()\n",
    "marginal_effect = vaccine_coef * mean_prob * (1 - mean_prob)\n",
    "\n",
    "print(f\"Vaccine coefficient: {vaccine_coef:.3f}\")\n",
    "print(f\"Approximate change in probability of hospitalization: {marginal_effect:.3f}\")"
   ]
  },
  {
   "cell_type": "code",
   "execution_count": 63,
   "metadata": {},
   "outputs": [
    {
     "data": {
      "text/html": [
       "<pre style=\"white-space:pre;overflow-x:auto;line-height:normal;font-family:Menlo,'DejaVu Sans Mono',consolas,'Courier New',monospace\">Average Treatment Effect <span style=\"font-weight: bold\">(</span>individual prediction method<span style=\"font-weight: bold\">)</span>: <span style=\"color: #008080; text-decoration-color: #008080; font-weight: bold\">-0.025</span>\n",
       "</pre>\n"
      ],
      "text/plain": [
       "Average Treatment Effect \u001b[1m(\u001b[0mindividual prediction method\u001b[1m)\u001b[0m: \u001b[1;36m-0.025\u001b[0m\n"
      ]
     },
     "metadata": {},
     "output_type": "display_data"
    }
   ],
   "source": [
    "# Alternative approach: Calculate individual treatment effects by predicting outcomes\n",
    "# for each person with and without vaccination\n",
    "\n",
    "# Create copies of the data with vaccine set to True and False\n",
    "data_vaccinated = data.copy()\n",
    "data_vaccinated[\"vaccine\"] = True\n",
    "\n",
    "data_unvaccinated = data.copy()\n",
    "data_unvaccinated[\"vaccine\"] = False\n",
    "\n",
    "# Predict probabilities for both scenarios\n",
    "prob_vaccinated = model.predict_proba(data_vaccinated[[\"age\", \"gender\", \"vaccine\"]])[\n",
    "    :, 1\n",
    "]\n",
    "prob_unvaccinated = model.predict_proba(\n",
    "    data_unvaccinated[[\"age\", \"gender\", \"vaccine\"]]\n",
    ")[:, 1]\n",
    "\n",
    "# Calculate individual treatment effects\n",
    "individual_effects = prob_vaccinated - prob_unvaccinated\n",
    "\n",
    "# Average treatment effect\n",
    "ate_individual = individual_effects.mean()\n",
    "\n",
    "print(f\"Average Treatment Effect (individual prediction method): {ate_individual:.3f}\")"
   ]
  },
  {
   "cell_type": "markdown",
   "metadata": {},
   "source": [
    "# Understanding propensity\n"
   ]
  },
  {
   "cell_type": "markdown",
   "metadata": {},
   "source": [
    "The fundamental problem here is the following: There's a lot more elderly people getting vaccinated! And there's a lot more elderly people getting hospitalized.\n",
    "\n",
    "The probability that a certain individual will be treated is called propensity - and our problem here is that our propensity correlates with the outcome.\n",
    "\n",
    "What if we could try to \"randomize\" the data? I.e., we want to create a \"synthetic sample\" in which the \"average weight\" of those samples match between the treated and untreated group.\n",
    "\n",
    "I.e.: suppose you're 20 years old and you got vaccinated - your contribution to the \"pool of vaccinated\" should matter a lot more than someone who's elderly.\n",
    "\n",
    "On the converse, what if we look at the set of unvaccinated people and oversample those who are elderly.\n",
    "\n",
    "With this idea, we can create a balanced dataset!\n",
    "\n",
    "To do this, we do the following:\n",
    "\n",
    "- We estimate the \"propensity\" of getting vaccinated. This tells us what's the probability that someone will be vaccinated, given their personal attributes.\n",
    "- We sample based on that propensity.\n",
    "\n",
    "This is called IPW - Inverse Probability Weighting!\n"
   ]
  },
  {
   "cell_type": "code",
   "execution_count": 64,
   "metadata": {},
   "outputs": [],
   "source": [
    "from sklearn.linear_model import LogisticRegression\n",
    "\n",
    "y = data[\"vaccine\"]\n",
    "X = data[[\"age\", \"gender\"]]\n",
    "\n",
    "# Let's use a simple logistic regression to estimate the propensity\n",
    "model = LogisticRegression()\n",
    "model.fit(X, y)\n",
    "\n",
    "\n",
    "# Estimate propensity scores (probability of being vaccinated)\n",
    "propensity_scores = model.predict_proba(X)[:, 1]  # probability of vaccine=True\n",
    "\n",
    "# Calculate IPW weights\n",
    "# For treated (vaccinated): weight = 1 / propensity_score\n",
    "# For control (not vaccinated): weight = 1 / (1 - propensity_score)\n",
    "weights = np.where(data[\"vaccine\"], 1 / propensity_scores, 1 / (1 - propensity_scores))"
   ]
  },
  {
   "cell_type": "code",
   "execution_count": 65,
   "metadata": {},
   "outputs": [
    {
     "data": {
      "text/html": [
       "<pre style=\"white-space:pre;overflow-x:auto;line-height:normal;font-family:Menlo,'DejaVu Sans Mono',consolas,'Courier New',monospace\">Average age of vaccinated people:  <span style=\"color: #008080; text-decoration-color: #008080; font-weight: bold\">57.6210929756162</span>\n",
       "</pre>\n"
      ],
      "text/plain": [
       "Average age of vaccinated people:  \u001b[1;36m57.6210929756162\u001b[0m\n"
      ]
     },
     "metadata": {},
     "output_type": "display_data"
    },
    {
     "data": {
      "text/html": [
       "<pre style=\"white-space:pre;overflow-x:auto;line-height:normal;font-family:Menlo,'DejaVu Sans Mono',consolas,'Courier New',monospace\">Average age of unvaccinated people:  <span style=\"color: #008080; text-decoration-color: #008080; font-weight: bold\">42.415820273088045</span>\n",
       "</pre>\n"
      ],
      "text/plain": [
       "Average age of unvaccinated people:  \u001b[1;36m42.415820273088045\u001b[0m\n"
      ]
     },
     "metadata": {},
     "output_type": "display_data"
    },
    {
     "data": {
      "text/html": [
       "<pre style=\"white-space:pre;overflow-x:auto;line-height:normal;font-family:Menlo,'DejaVu Sans Mono',consolas,'Courier New',monospace\">Weighted average age of vaccinated people:  <span style=\"color: #008080; text-decoration-color: #008080; font-weight: bold\">48.41145972037631</span>\n",
       "</pre>\n"
      ],
      "text/plain": [
       "Weighted average age of vaccinated people:  \u001b[1;36m48.41145972037631\u001b[0m\n"
      ]
     },
     "metadata": {},
     "output_type": "display_data"
    },
    {
     "data": {
      "text/html": [
       "<pre style=\"white-space:pre;overflow-x:auto;line-height:normal;font-family:Menlo,'DejaVu Sans Mono',consolas,'Courier New',monospace\">Weighted average age of unvaccinated people:  <span style=\"color: #008080; text-decoration-color: #008080; font-weight: bold\">49.08854456766885</span>\n",
       "</pre>\n"
      ],
      "text/plain": [
       "Weighted average age of unvaccinated people:  \u001b[1;36m49.08854456766885\u001b[0m\n"
      ]
     },
     "metadata": {},
     "output_type": "display_data"
    }
   ],
   "source": [
    "print(\"Average age of vaccinated people: \", data[data[\"vaccine\"]][\"age\"].mean())\n",
    "print(\"Average age of unvaccinated people: \", data[~data[\"vaccine\"]][\"age\"].mean())\n",
    "\n",
    "print(\n",
    "    \"Weighted average age of vaccinated people: \",\n",
    "    np.average(data[data[\"vaccine\"]][\"age\"], weights=weights[data[\"vaccine\"]]),\n",
    ")\n",
    "print(\n",
    "    \"Weighted average age of unvaccinated people: \",\n",
    "    np.average(data[~data[\"vaccine\"]][\"age\"], weights=weights[~data[\"vaccine\"]]),\n",
    ")"
   ]
  },
  {
   "cell_type": "code",
   "execution_count": 66,
   "metadata": {},
   "outputs": [
    {
     "data": {
      "text/html": [
       "<pre style=\"white-space:pre;overflow-x:auto;line-height:normal;font-family:Menlo,'DejaVu Sans Mono',consolas,'Courier New',monospace\">Propensity-weighted hospitalization rate for vaccinated: <span style=\"color: #008080; text-decoration-color: #008080; font-weight: bold\">0.081</span>\n",
       "</pre>\n"
      ],
      "text/plain": [
       "Propensity-weighted hospitalization rate for vaccinated: \u001b[1;36m0.081\u001b[0m\n"
      ]
     },
     "metadata": {},
     "output_type": "display_data"
    },
    {
     "data": {
      "text/html": [
       "<pre style=\"white-space:pre;overflow-x:auto;line-height:normal;font-family:Menlo,'DejaVu Sans Mono',consolas,'Courier New',monospace\">Propensity-weighted hospitalization rate for unvaccinated: <span style=\"color: #008080; text-decoration-color: #008080; font-weight: bold\">0.104</span>\n",
       "</pre>\n"
      ],
      "text/plain": [
       "Propensity-weighted hospitalization rate for unvaccinated: \u001b[1;36m0.104\u001b[0m\n"
      ]
     },
     "metadata": {},
     "output_type": "display_data"
    },
    {
     "data": {
      "text/html": [
       "<pre style=\"white-space:pre;overflow-x:auto;line-height:normal;font-family:Menlo,'DejaVu Sans Mono',consolas,'Courier New',monospace\">Treatment effect <span style=\"font-weight: bold\">(</span>IPW estimate<span style=\"font-weight: bold\">)</span>: <span style=\"color: #008080; text-decoration-color: #008080; font-weight: bold\">-0.024</span>\n",
       "</pre>\n"
      ],
      "text/plain": [
       "Treatment effect \u001b[1m(\u001b[0mIPW estimate\u001b[1m)\u001b[0m: \u001b[1;36m-0.024\u001b[0m\n"
      ]
     },
     "metadata": {},
     "output_type": "display_data"
    }
   ],
   "source": [
    "# Calculate IPW weights\n",
    "# For treated (vaccinated): weight = 1 / propensity_score\n",
    "# For control (not vaccinated): weight = 1 / (1 - propensity_score)\n",
    "weights = np.where(data[\"vaccine\"], 1 / propensity_scores, 1 / (1 - propensity_scores))\n",
    "\n",
    "# Calculate weighted outcomes\n",
    "treated_outcome = np.average(\n",
    "    data[data[\"vaccine\"]][\"hospitalized\"], weights=weights[data[\"vaccine\"]]\n",
    ")\n",
    "control_outcome = np.average(\n",
    "    data[~data[\"vaccine\"]][\"hospitalized\"], weights=weights[~data[\"vaccine\"]]\n",
    ")\n",
    "\n",
    "# Treatment effect (ATE - Average Treatment Effect)\n",
    "treatment_effect = treated_outcome - control_outcome\n",
    "\n",
    "print(f\"Propensity-weighted hospitalization rate for vaccinated: {treated_outcome:.3f}\")\n",
    "print(\n",
    "    f\"Propensity-weighted hospitalization rate for unvaccinated: {control_outcome:.3f}\"\n",
    ")\n",
    "print(f\"Treatment effect (IPW estimate): {treatment_effect:.3f}\")"
   ]
  },
  {
   "cell_type": "markdown",
   "metadata": {},
   "source": [
    "# Keeping it real\n",
    "\n",
    "So what if we just go ahead and stratify the data, and based on each strata, compare only neighbors to neighbors?\n",
    "\n",
    "This is the basic idea of matching - while in this case it's a really really really simple matching, it can get quite complicated if you have multiple variables!\n"
   ]
  },
  {
   "cell_type": "code",
   "execution_count": 67,
   "metadata": {},
   "outputs": [
    {
     "data": {
      "text/html": [
       "<pre style=\"white-space:pre;overflow-x:auto;line-height:normal;font-family:Menlo,'DejaVu Sans Mono',consolas,'Courier New',monospace\">vaccine       <span style=\"color: #ff0000; text-decoration-color: #ff0000; font-style: italic\">False</span>      <span style=\"color: #00ff00; text-decoration-color: #00ff00; font-style: italic\">True</span>    effect  count\n",
       "age_group                                     \n",
       "<span style=\"color: #008080; text-decoration-color: #008080; font-weight: bold\">0</span>          <span style=\"color: #008080; text-decoration-color: #008080; font-weight: bold\">0.064516</span>  <span style=\"color: #008080; text-decoration-color: #008080; font-weight: bold\">0.024000</span> <span style=\"color: #008080; text-decoration-color: #008080; font-weight: bold\">-0.040516</span>    <span style=\"color: #008080; text-decoration-color: #008080; font-weight: bold\">715</span>\n",
       "<span style=\"color: #008080; text-decoration-color: #008080; font-weight: bold\">1</span>          <span style=\"color: #008080; text-decoration-color: #008080; font-weight: bold\">0.035368</span>  <span style=\"color: #008080; text-decoration-color: #008080; font-weight: bold\">0.015719</span> <span style=\"color: #008080; text-decoration-color: #008080; font-weight: bold\">-0.019648</span>   <span style=\"color: #008080; text-decoration-color: #008080; font-weight: bold\">2269</span>\n",
       "<span style=\"color: #008080; text-decoration-color: #008080; font-weight: bold\">2</span>          <span style=\"color: #008080; text-decoration-color: #008080; font-weight: bold\">0.055100</span>  <span style=\"color: #008080; text-decoration-color: #008080; font-weight: bold\">0.015179</span> <span style=\"color: #008080; text-decoration-color: #008080; font-weight: bold\">-0.039922</span>   <span style=\"color: #008080; text-decoration-color: #008080; font-weight: bold\">3316</span>\n",
       "<span style=\"color: #008080; text-decoration-color: #008080; font-weight: bold\">3</span>          <span style=\"color: #008080; text-decoration-color: #008080; font-weight: bold\">0.052836</span>  <span style=\"color: #008080; text-decoration-color: #008080; font-weight: bold\">0.022064</span> <span style=\"color: #008080; text-decoration-color: #008080; font-weight: bold\">-0.030772</span>   <span style=\"color: #008080; text-decoration-color: #008080; font-weight: bold\">3979</span>\n",
       "<span style=\"color: #008080; text-decoration-color: #008080; font-weight: bold\">4</span>          <span style=\"color: #008080; text-decoration-color: #008080; font-weight: bold\">0.048570</span>  <span style=\"color: #008080; text-decoration-color: #008080; font-weight: bold\">0.024782</span> <span style=\"color: #008080; text-decoration-color: #008080; font-weight: bold\">-0.023788</span>   <span style=\"color: #008080; text-decoration-color: #008080; font-weight: bold\">4396</span>\n",
       "<span style=\"color: #008080; text-decoration-color: #008080; font-weight: bold\">5</span>          <span style=\"color: #008080; text-decoration-color: #008080; font-weight: bold\">0.055015</span>  <span style=\"color: #008080; text-decoration-color: #008080; font-weight: bold\">0.022901</span> <span style=\"color: #008080; text-decoration-color: #008080; font-weight: bold\">-0.032114</span>   <span style=\"color: #008080; text-decoration-color: #008080; font-weight: bold\">4422</span>\n",
       "<span style=\"color: #008080; text-decoration-color: #008080; font-weight: bold\">6</span>          <span style=\"color: #008080; text-decoration-color: #008080; font-weight: bold\">0.256861</span>  <span style=\"color: #008080; text-decoration-color: #008080; font-weight: bold\">0.173146</span> <span style=\"color: #008080; text-decoration-color: #008080; font-weight: bold\">-0.083715</span>   <span style=\"color: #008080; text-decoration-color: #008080; font-weight: bold\">4255</span>\n",
       "<span style=\"color: #008080; text-decoration-color: #008080; font-weight: bold\">7</span>          <span style=\"color: #008080; text-decoration-color: #008080; font-weight: bold\">0.263946</span>  <span style=\"color: #008080; text-decoration-color: #008080; font-weight: bold\">0.163683</span> <span style=\"color: #008080; text-decoration-color: #008080; font-weight: bold\">-0.100263</span>   <span style=\"color: #008080; text-decoration-color: #008080; font-weight: bold\">3472</span>\n",
       "<span style=\"color: #008080; text-decoration-color: #008080; font-weight: bold\">8</span>          <span style=\"color: #008080; text-decoration-color: #008080; font-weight: bold\">0.253863</span>  <span style=\"color: #008080; text-decoration-color: #008080; font-weight: bold\">0.171141</span> <span style=\"color: #008080; text-decoration-color: #008080; font-weight: bold\">-0.082722</span>   <span style=\"color: #008080; text-decoration-color: #008080; font-weight: bold\">2241</span>\n",
       "<span style=\"color: #008080; text-decoration-color: #008080; font-weight: bold\">9</span>          <span style=\"color: #008080; text-decoration-color: #008080; font-weight: bold\">0.212560</span>  <span style=\"color: #008080; text-decoration-color: #008080; font-weight: bold\">0.151724</span> <span style=\"color: #008080; text-decoration-color: #008080; font-weight: bold\">-0.060836</span>    <span style=\"color: #008080; text-decoration-color: #008080; font-weight: bold\">932</span>\n",
       "<span style=\"color: #008080; text-decoration-color: #008080; font-weight: bold\">10</span>              NaN  <span style=\"color: #008080; text-decoration-color: #008080; font-weight: bold\">0.000000</span>       NaN      <span style=\"color: #008080; text-decoration-color: #008080; font-weight: bold\">3</span>\n",
       "</pre>\n"
      ],
      "text/plain": [
       "vaccine       \u001b[3;91mFalse\u001b[0m      \u001b[3;92mTrue\u001b[0m    effect  count\n",
       "age_group                                     \n",
       "\u001b[1;36m0\u001b[0m          \u001b[1;36m0.064516\u001b[0m  \u001b[1;36m0.024000\u001b[0m \u001b[1;36m-0.040516\u001b[0m    \u001b[1;36m715\u001b[0m\n",
       "\u001b[1;36m1\u001b[0m          \u001b[1;36m0.035368\u001b[0m  \u001b[1;36m0.015719\u001b[0m \u001b[1;36m-0.019648\u001b[0m   \u001b[1;36m2269\u001b[0m\n",
       "\u001b[1;36m2\u001b[0m          \u001b[1;36m0.055100\u001b[0m  \u001b[1;36m0.015179\u001b[0m \u001b[1;36m-0.039922\u001b[0m   \u001b[1;36m3316\u001b[0m\n",
       "\u001b[1;36m3\u001b[0m          \u001b[1;36m0.052836\u001b[0m  \u001b[1;36m0.022064\u001b[0m \u001b[1;36m-0.030772\u001b[0m   \u001b[1;36m3979\u001b[0m\n",
       "\u001b[1;36m4\u001b[0m          \u001b[1;36m0.048570\u001b[0m  \u001b[1;36m0.024782\u001b[0m \u001b[1;36m-0.023788\u001b[0m   \u001b[1;36m4396\u001b[0m\n",
       "\u001b[1;36m5\u001b[0m          \u001b[1;36m0.055015\u001b[0m  \u001b[1;36m0.022901\u001b[0m \u001b[1;36m-0.032114\u001b[0m   \u001b[1;36m4422\u001b[0m\n",
       "\u001b[1;36m6\u001b[0m          \u001b[1;36m0.256861\u001b[0m  \u001b[1;36m0.173146\u001b[0m \u001b[1;36m-0.083715\u001b[0m   \u001b[1;36m4255\u001b[0m\n",
       "\u001b[1;36m7\u001b[0m          \u001b[1;36m0.263946\u001b[0m  \u001b[1;36m0.163683\u001b[0m \u001b[1;36m-0.100263\u001b[0m   \u001b[1;36m3472\u001b[0m\n",
       "\u001b[1;36m8\u001b[0m          \u001b[1;36m0.253863\u001b[0m  \u001b[1;36m0.171141\u001b[0m \u001b[1;36m-0.082722\u001b[0m   \u001b[1;36m2241\u001b[0m\n",
       "\u001b[1;36m9\u001b[0m          \u001b[1;36m0.212560\u001b[0m  \u001b[1;36m0.151724\u001b[0m \u001b[1;36m-0.060836\u001b[0m    \u001b[1;36m932\u001b[0m\n",
       "\u001b[1;36m10\u001b[0m              NaN  \u001b[1;36m0.000000\u001b[0m       NaN      \u001b[1;36m3\u001b[0m\n"
      ]
     },
     "metadata": {},
     "output_type": "display_data"
    },
    {
     "data": {
      "text/html": [
       "<pre style=\"white-space:pre;overflow-x:auto;line-height:normal;font-family:Menlo,'DejaVu Sans Mono',consolas,'Courier New',monospace\"><span style=\"color: #008080; text-decoration-color: #008080; font-weight: bold\">-0.05142960890273927</span>\n",
       "</pre>\n"
      ],
      "text/plain": [
       "\u001b[1;36m-0.05142960890273927\u001b[0m\n"
      ]
     },
     "metadata": {},
     "output_type": "display_data"
    }
   ],
   "source": [
    "data[\"age_group\"] = data[\"age\"] // 10\n",
    "\n",
    "unstacked = (\n",
    "    data.groupby([\"age_group\", \"vaccine\"])[\"hospitalized\"]\n",
    "    .mean()\n",
    "    .unstack(level=\"vaccine\")\n",
    ")\n",
    "\n",
    "unstacked[\"effect\"] = unstacked[True] - unstacked[False]\n",
    "unstacked[\"count\"] = data[\"age_group\"].value_counts()\n",
    "\n",
    "print(unstacked)\n",
    "\n",
    "print(unstacked[\"effect\"].mean())"
   ]
  },
  {
   "cell_type": "code",
   "execution_count": 68,
   "metadata": {},
   "outputs": [
    {
     "data": {
      "text/plain": [
       "np.float64(-0.05071174590901308)"
      ]
     },
     "execution_count": 68,
     "metadata": {},
     "output_type": "execute_result"
    }
   ],
   "source": [
    "unstacked[\"weighted_effect\"] = unstacked[\"effect\"] * unstacked[\"count\"]\n",
    "unstacked[\"weighted_effect\"].sum() / unstacked[\"count\"].sum()"
   ]
  },
  {
   "cell_type": "markdown",
   "metadata": {},
   "source": [
    "# The fundamental problem of causal inference:\n",
    "\n",
    "If we could clone everyone, send the clones to parallel universe and in that parallel universe give them a vaccine, our problem would be solved.\n",
    "\n",
    "Unfortunately this isn't true, so we need to be creative.\n",
    "\n",
    "What if instead, we try to do the following:\n",
    "\n",
    "- Look at the group of people who have taken the vaccine. And only for that group, predict what's going to be their outcome using all the confounders available.\n",
    "- Look at the control group, and predict their outcome using all the confunders as well.\n",
    "\n",
    "- We take the estimated outcome as being the difference between the predicted outcomes of both these models.\n",
    "\n",
    "Seems confusing, let's think step by step...\n"
   ]
  },
  {
   "cell_type": "code",
   "execution_count": 69,
   "metadata": {},
   "outputs": [],
   "source": [
    "# T-learner implementation\n",
    "# A T-learner trains separate models for treated and control groups\n",
    "\n",
    "from sklearn.ensemble import RandomForestClassifier\n",
    "from sklearn.model_selection import train_test_split\n",
    "from sklearn.metrics import mean_squared_error"
   ]
  },
  {
   "cell_type": "code",
   "execution_count": 70,
   "metadata": {},
   "outputs": [],
   "source": [
    "# Prepare features (age and gender)\n",
    "X = data[[\"age\", \"gender\"]].astype(float)\n",
    "y = data[\"hospitalized\"].astype(float)\n",
    "treatment = data[\"vaccine\"]\n",
    "\n",
    "# Split data into treated and control groups\n",
    "X_treated = X[treatment]\n",
    "y_treated = y[treatment]\n",
    "X_control = X[~treatment]\n",
    "y_control = y[~treatment]"
   ]
  },
  {
   "cell_type": "code",
   "execution_count": 71,
   "metadata": {},
   "outputs": [
    {
     "data": {
      "text/html": [
       "<style>#sk-container-id-7 {\n",
       "  /* Definition of color scheme common for light and dark mode */\n",
       "  --sklearn-color-text: #000;\n",
       "  --sklearn-color-text-muted: #666;\n",
       "  --sklearn-color-line: gray;\n",
       "  /* Definition of color scheme for unfitted estimators */\n",
       "  --sklearn-color-unfitted-level-0: #fff5e6;\n",
       "  --sklearn-color-unfitted-level-1: #f6e4d2;\n",
       "  --sklearn-color-unfitted-level-2: #ffe0b3;\n",
       "  --sklearn-color-unfitted-level-3: chocolate;\n",
       "  /* Definition of color scheme for fitted estimators */\n",
       "  --sklearn-color-fitted-level-0: #f0f8ff;\n",
       "  --sklearn-color-fitted-level-1: #d4ebff;\n",
       "  --sklearn-color-fitted-level-2: #b3dbfd;\n",
       "  --sklearn-color-fitted-level-3: cornflowerblue;\n",
       "\n",
       "  /* Specific color for light theme */\n",
       "  --sklearn-color-text-on-default-background: var(--sg-text-color, var(--theme-code-foreground, var(--jp-content-font-color1, black)));\n",
       "  --sklearn-color-background: var(--sg-background-color, var(--theme-background, var(--jp-layout-color0, white)));\n",
       "  --sklearn-color-border-box: var(--sg-text-color, var(--theme-code-foreground, var(--jp-content-font-color1, black)));\n",
       "  --sklearn-color-icon: #696969;\n",
       "\n",
       "  @media (prefers-color-scheme: dark) {\n",
       "    /* Redefinition of color scheme for dark theme */\n",
       "    --sklearn-color-text-on-default-background: var(--sg-text-color, var(--theme-code-foreground, var(--jp-content-font-color1, white)));\n",
       "    --sklearn-color-background: var(--sg-background-color, var(--theme-background, var(--jp-layout-color0, #111)));\n",
       "    --sklearn-color-border-box: var(--sg-text-color, var(--theme-code-foreground, var(--jp-content-font-color1, white)));\n",
       "    --sklearn-color-icon: #878787;\n",
       "  }\n",
       "}\n",
       "\n",
       "#sk-container-id-7 {\n",
       "  color: var(--sklearn-color-text);\n",
       "}\n",
       "\n",
       "#sk-container-id-7 pre {\n",
       "  padding: 0;\n",
       "}\n",
       "\n",
       "#sk-container-id-7 input.sk-hidden--visually {\n",
       "  border: 0;\n",
       "  clip: rect(1px 1px 1px 1px);\n",
       "  clip: rect(1px, 1px, 1px, 1px);\n",
       "  height: 1px;\n",
       "  margin: -1px;\n",
       "  overflow: hidden;\n",
       "  padding: 0;\n",
       "  position: absolute;\n",
       "  width: 1px;\n",
       "}\n",
       "\n",
       "#sk-container-id-7 div.sk-dashed-wrapped {\n",
       "  border: 1px dashed var(--sklearn-color-line);\n",
       "  margin: 0 0.4em 0.5em 0.4em;\n",
       "  box-sizing: border-box;\n",
       "  padding-bottom: 0.4em;\n",
       "  background-color: var(--sklearn-color-background);\n",
       "}\n",
       "\n",
       "#sk-container-id-7 div.sk-container {\n",
       "  /* jupyter's `normalize.less` sets `[hidden] { display: none; }`\n",
       "     but bootstrap.min.css set `[hidden] { display: none !important; }`\n",
       "     so we also need the `!important` here to be able to override the\n",
       "     default hidden behavior on the sphinx rendered scikit-learn.org.\n",
       "     See: https://github.com/scikit-learn/scikit-learn/issues/21755 */\n",
       "  display: inline-block !important;\n",
       "  position: relative;\n",
       "}\n",
       "\n",
       "#sk-container-id-7 div.sk-text-repr-fallback {\n",
       "  display: none;\n",
       "}\n",
       "\n",
       "div.sk-parallel-item,\n",
       "div.sk-serial,\n",
       "div.sk-item {\n",
       "  /* draw centered vertical line to link estimators */\n",
       "  background-image: linear-gradient(var(--sklearn-color-text-on-default-background), var(--sklearn-color-text-on-default-background));\n",
       "  background-size: 2px 100%;\n",
       "  background-repeat: no-repeat;\n",
       "  background-position: center center;\n",
       "}\n",
       "\n",
       "/* Parallel-specific style estimator block */\n",
       "\n",
       "#sk-container-id-7 div.sk-parallel-item::after {\n",
       "  content: \"\";\n",
       "  width: 100%;\n",
       "  border-bottom: 2px solid var(--sklearn-color-text-on-default-background);\n",
       "  flex-grow: 1;\n",
       "}\n",
       "\n",
       "#sk-container-id-7 div.sk-parallel {\n",
       "  display: flex;\n",
       "  align-items: stretch;\n",
       "  justify-content: center;\n",
       "  background-color: var(--sklearn-color-background);\n",
       "  position: relative;\n",
       "}\n",
       "\n",
       "#sk-container-id-7 div.sk-parallel-item {\n",
       "  display: flex;\n",
       "  flex-direction: column;\n",
       "}\n",
       "\n",
       "#sk-container-id-7 div.sk-parallel-item:first-child::after {\n",
       "  align-self: flex-end;\n",
       "  width: 50%;\n",
       "}\n",
       "\n",
       "#sk-container-id-7 div.sk-parallel-item:last-child::after {\n",
       "  align-self: flex-start;\n",
       "  width: 50%;\n",
       "}\n",
       "\n",
       "#sk-container-id-7 div.sk-parallel-item:only-child::after {\n",
       "  width: 0;\n",
       "}\n",
       "\n",
       "/* Serial-specific style estimator block */\n",
       "\n",
       "#sk-container-id-7 div.sk-serial {\n",
       "  display: flex;\n",
       "  flex-direction: column;\n",
       "  align-items: center;\n",
       "  background-color: var(--sklearn-color-background);\n",
       "  padding-right: 1em;\n",
       "  padding-left: 1em;\n",
       "}\n",
       "\n",
       "\n",
       "/* Toggleable style: style used for estimator/Pipeline/ColumnTransformer box that is\n",
       "clickable and can be expanded/collapsed.\n",
       "- Pipeline and ColumnTransformer use this feature and define the default style\n",
       "- Estimators will overwrite some part of the style using the `sk-estimator` class\n",
       "*/\n",
       "\n",
       "/* Pipeline and ColumnTransformer style (default) */\n",
       "\n",
       "#sk-container-id-7 div.sk-toggleable {\n",
       "  /* Default theme specific background. It is overwritten whether we have a\n",
       "  specific estimator or a Pipeline/ColumnTransformer */\n",
       "  background-color: var(--sklearn-color-background);\n",
       "}\n",
       "\n",
       "/* Toggleable label */\n",
       "#sk-container-id-7 label.sk-toggleable__label {\n",
       "  cursor: pointer;\n",
       "  display: flex;\n",
       "  width: 100%;\n",
       "  margin-bottom: 0;\n",
       "  padding: 0.5em;\n",
       "  box-sizing: border-box;\n",
       "  text-align: center;\n",
       "  align-items: start;\n",
       "  justify-content: space-between;\n",
       "  gap: 0.5em;\n",
       "}\n",
       "\n",
       "#sk-container-id-7 label.sk-toggleable__label .caption {\n",
       "  font-size: 0.6rem;\n",
       "  font-weight: lighter;\n",
       "  color: var(--sklearn-color-text-muted);\n",
       "}\n",
       "\n",
       "#sk-container-id-7 label.sk-toggleable__label-arrow:before {\n",
       "  /* Arrow on the left of the label */\n",
       "  content: \"▸\";\n",
       "  float: left;\n",
       "  margin-right: 0.25em;\n",
       "  color: var(--sklearn-color-icon);\n",
       "}\n",
       "\n",
       "#sk-container-id-7 label.sk-toggleable__label-arrow:hover:before {\n",
       "  color: var(--sklearn-color-text);\n",
       "}\n",
       "\n",
       "/* Toggleable content - dropdown */\n",
       "\n",
       "#sk-container-id-7 div.sk-toggleable__content {\n",
       "  display: none;\n",
       "  text-align: left;\n",
       "  /* unfitted */\n",
       "  background-color: var(--sklearn-color-unfitted-level-0);\n",
       "}\n",
       "\n",
       "#sk-container-id-7 div.sk-toggleable__content.fitted {\n",
       "  /* fitted */\n",
       "  background-color: var(--sklearn-color-fitted-level-0);\n",
       "}\n",
       "\n",
       "#sk-container-id-7 div.sk-toggleable__content pre {\n",
       "  margin: 0.2em;\n",
       "  border-radius: 0.25em;\n",
       "  color: var(--sklearn-color-text);\n",
       "  /* unfitted */\n",
       "  background-color: var(--sklearn-color-unfitted-level-0);\n",
       "}\n",
       "\n",
       "#sk-container-id-7 div.sk-toggleable__content.fitted pre {\n",
       "  /* unfitted */\n",
       "  background-color: var(--sklearn-color-fitted-level-0);\n",
       "}\n",
       "\n",
       "#sk-container-id-7 input.sk-toggleable__control:checked~div.sk-toggleable__content {\n",
       "  /* Expand drop-down */\n",
       "  display: block;\n",
       "  width: 100%;\n",
       "  overflow: visible;\n",
       "}\n",
       "\n",
       "#sk-container-id-7 input.sk-toggleable__control:checked~label.sk-toggleable__label-arrow:before {\n",
       "  content: \"▾\";\n",
       "}\n",
       "\n",
       "/* Pipeline/ColumnTransformer-specific style */\n",
       "\n",
       "#sk-container-id-7 div.sk-label input.sk-toggleable__control:checked~label.sk-toggleable__label {\n",
       "  color: var(--sklearn-color-text);\n",
       "  background-color: var(--sklearn-color-unfitted-level-2);\n",
       "}\n",
       "\n",
       "#sk-container-id-7 div.sk-label.fitted input.sk-toggleable__control:checked~label.sk-toggleable__label {\n",
       "  background-color: var(--sklearn-color-fitted-level-2);\n",
       "}\n",
       "\n",
       "/* Estimator-specific style */\n",
       "\n",
       "/* Colorize estimator box */\n",
       "#sk-container-id-7 div.sk-estimator input.sk-toggleable__control:checked~label.sk-toggleable__label {\n",
       "  /* unfitted */\n",
       "  background-color: var(--sklearn-color-unfitted-level-2);\n",
       "}\n",
       "\n",
       "#sk-container-id-7 div.sk-estimator.fitted input.sk-toggleable__control:checked~label.sk-toggleable__label {\n",
       "  /* fitted */\n",
       "  background-color: var(--sklearn-color-fitted-level-2);\n",
       "}\n",
       "\n",
       "#sk-container-id-7 div.sk-label label.sk-toggleable__label,\n",
       "#sk-container-id-7 div.sk-label label {\n",
       "  /* The background is the default theme color */\n",
       "  color: var(--sklearn-color-text-on-default-background);\n",
       "}\n",
       "\n",
       "/* On hover, darken the color of the background */\n",
       "#sk-container-id-7 div.sk-label:hover label.sk-toggleable__label {\n",
       "  color: var(--sklearn-color-text);\n",
       "  background-color: var(--sklearn-color-unfitted-level-2);\n",
       "}\n",
       "\n",
       "/* Label box, darken color on hover, fitted */\n",
       "#sk-container-id-7 div.sk-label.fitted:hover label.sk-toggleable__label.fitted {\n",
       "  color: var(--sklearn-color-text);\n",
       "  background-color: var(--sklearn-color-fitted-level-2);\n",
       "}\n",
       "\n",
       "/* Estimator label */\n",
       "\n",
       "#sk-container-id-7 div.sk-label label {\n",
       "  font-family: monospace;\n",
       "  font-weight: bold;\n",
       "  display: inline-block;\n",
       "  line-height: 1.2em;\n",
       "}\n",
       "\n",
       "#sk-container-id-7 div.sk-label-container {\n",
       "  text-align: center;\n",
       "}\n",
       "\n",
       "/* Estimator-specific */\n",
       "#sk-container-id-7 div.sk-estimator {\n",
       "  font-family: monospace;\n",
       "  border: 1px dotted var(--sklearn-color-border-box);\n",
       "  border-radius: 0.25em;\n",
       "  box-sizing: border-box;\n",
       "  margin-bottom: 0.5em;\n",
       "  /* unfitted */\n",
       "  background-color: var(--sklearn-color-unfitted-level-0);\n",
       "}\n",
       "\n",
       "#sk-container-id-7 div.sk-estimator.fitted {\n",
       "  /* fitted */\n",
       "  background-color: var(--sklearn-color-fitted-level-0);\n",
       "}\n",
       "\n",
       "/* on hover */\n",
       "#sk-container-id-7 div.sk-estimator:hover {\n",
       "  /* unfitted */\n",
       "  background-color: var(--sklearn-color-unfitted-level-2);\n",
       "}\n",
       "\n",
       "#sk-container-id-7 div.sk-estimator.fitted:hover {\n",
       "  /* fitted */\n",
       "  background-color: var(--sklearn-color-fitted-level-2);\n",
       "}\n",
       "\n",
       "/* Specification for estimator info (e.g. \"i\" and \"?\") */\n",
       "\n",
       "/* Common style for \"i\" and \"?\" */\n",
       "\n",
       ".sk-estimator-doc-link,\n",
       "a:link.sk-estimator-doc-link,\n",
       "a:visited.sk-estimator-doc-link {\n",
       "  float: right;\n",
       "  font-size: smaller;\n",
       "  line-height: 1em;\n",
       "  font-family: monospace;\n",
       "  background-color: var(--sklearn-color-background);\n",
       "  border-radius: 1em;\n",
       "  height: 1em;\n",
       "  width: 1em;\n",
       "  text-decoration: none !important;\n",
       "  margin-left: 0.5em;\n",
       "  text-align: center;\n",
       "  /* unfitted */\n",
       "  border: var(--sklearn-color-unfitted-level-1) 1pt solid;\n",
       "  color: var(--sklearn-color-unfitted-level-1);\n",
       "}\n",
       "\n",
       ".sk-estimator-doc-link.fitted,\n",
       "a:link.sk-estimator-doc-link.fitted,\n",
       "a:visited.sk-estimator-doc-link.fitted {\n",
       "  /* fitted */\n",
       "  border: var(--sklearn-color-fitted-level-1) 1pt solid;\n",
       "  color: var(--sklearn-color-fitted-level-1);\n",
       "}\n",
       "\n",
       "/* On hover */\n",
       "div.sk-estimator:hover .sk-estimator-doc-link:hover,\n",
       ".sk-estimator-doc-link:hover,\n",
       "div.sk-label-container:hover .sk-estimator-doc-link:hover,\n",
       ".sk-estimator-doc-link:hover {\n",
       "  /* unfitted */\n",
       "  background-color: var(--sklearn-color-unfitted-level-3);\n",
       "  color: var(--sklearn-color-background);\n",
       "  text-decoration: none;\n",
       "}\n",
       "\n",
       "div.sk-estimator.fitted:hover .sk-estimator-doc-link.fitted:hover,\n",
       ".sk-estimator-doc-link.fitted:hover,\n",
       "div.sk-label-container:hover .sk-estimator-doc-link.fitted:hover,\n",
       ".sk-estimator-doc-link.fitted:hover {\n",
       "  /* fitted */\n",
       "  background-color: var(--sklearn-color-fitted-level-3);\n",
       "  color: var(--sklearn-color-background);\n",
       "  text-decoration: none;\n",
       "}\n",
       "\n",
       "/* Span, style for the box shown on hovering the info icon */\n",
       ".sk-estimator-doc-link span {\n",
       "  display: none;\n",
       "  z-index: 9999;\n",
       "  position: relative;\n",
       "  font-weight: normal;\n",
       "  right: .2ex;\n",
       "  padding: .5ex;\n",
       "  margin: .5ex;\n",
       "  width: min-content;\n",
       "  min-width: 20ex;\n",
       "  max-width: 50ex;\n",
       "  color: var(--sklearn-color-text);\n",
       "  box-shadow: 2pt 2pt 4pt #999;\n",
       "  /* unfitted */\n",
       "  background: var(--sklearn-color-unfitted-level-0);\n",
       "  border: .5pt solid var(--sklearn-color-unfitted-level-3);\n",
       "}\n",
       "\n",
       ".sk-estimator-doc-link.fitted span {\n",
       "  /* fitted */\n",
       "  background: var(--sklearn-color-fitted-level-0);\n",
       "  border: var(--sklearn-color-fitted-level-3);\n",
       "}\n",
       "\n",
       ".sk-estimator-doc-link:hover span {\n",
       "  display: block;\n",
       "}\n",
       "\n",
       "/* \"?\"-specific style due to the `<a>` HTML tag */\n",
       "\n",
       "#sk-container-id-7 a.estimator_doc_link {\n",
       "  float: right;\n",
       "  font-size: 1rem;\n",
       "  line-height: 1em;\n",
       "  font-family: monospace;\n",
       "  background-color: var(--sklearn-color-background);\n",
       "  border-radius: 1rem;\n",
       "  height: 1rem;\n",
       "  width: 1rem;\n",
       "  text-decoration: none;\n",
       "  /* unfitted */\n",
       "  color: var(--sklearn-color-unfitted-level-1);\n",
       "  border: var(--sklearn-color-unfitted-level-1) 1pt solid;\n",
       "}\n",
       "\n",
       "#sk-container-id-7 a.estimator_doc_link.fitted {\n",
       "  /* fitted */\n",
       "  border: var(--sklearn-color-fitted-level-1) 1pt solid;\n",
       "  color: var(--sklearn-color-fitted-level-1);\n",
       "}\n",
       "\n",
       "/* On hover */\n",
       "#sk-container-id-7 a.estimator_doc_link:hover {\n",
       "  /* unfitted */\n",
       "  background-color: var(--sklearn-color-unfitted-level-3);\n",
       "  color: var(--sklearn-color-background);\n",
       "  text-decoration: none;\n",
       "}\n",
       "\n",
       "#sk-container-id-7 a.estimator_doc_link.fitted:hover {\n",
       "  /* fitted */\n",
       "  background-color: var(--sklearn-color-fitted-level-3);\n",
       "}\n",
       "\n",
       ".estimator-table summary {\n",
       "    padding: .5rem;\n",
       "    font-family: monospace;\n",
       "    cursor: pointer;\n",
       "}\n",
       "\n",
       ".estimator-table details[open] {\n",
       "    padding-left: 0.1rem;\n",
       "    padding-right: 0.1rem;\n",
       "    padding-bottom: 0.3rem;\n",
       "}\n",
       "\n",
       ".estimator-table .parameters-table {\n",
       "    margin-left: auto !important;\n",
       "    margin-right: auto !important;\n",
       "}\n",
       "\n",
       ".estimator-table .parameters-table tr:nth-child(odd) {\n",
       "    background-color: #fff;\n",
       "}\n",
       "\n",
       ".estimator-table .parameters-table tr:nth-child(even) {\n",
       "    background-color: #f6f6f6;\n",
       "}\n",
       "\n",
       ".estimator-table .parameters-table tr:hover {\n",
       "    background-color: #e0e0e0;\n",
       "}\n",
       "\n",
       ".estimator-table table td {\n",
       "    border: 1px solid rgba(106, 105, 104, 0.232);\n",
       "}\n",
       "\n",
       ".user-set td {\n",
       "    color:rgb(255, 94, 0);\n",
       "    text-align: left;\n",
       "}\n",
       "\n",
       ".user-set td.value pre {\n",
       "    color:rgb(255, 94, 0) !important;\n",
       "    background-color: transparent !important;\n",
       "}\n",
       "\n",
       ".default td {\n",
       "    color: black;\n",
       "    text-align: left;\n",
       "}\n",
       "\n",
       ".user-set td i,\n",
       ".default td i {\n",
       "    color: black;\n",
       "}\n",
       "\n",
       ".copy-paste-icon {\n",
       "    background-image: url(data:image/svg+xml;base64,PHN2ZyB4bWxucz0iaHR0cDovL3d3dy53My5vcmcvMjAwMC9zdmciIHZpZXdCb3g9IjAgMCA0NDggNTEyIj48IS0tIUZvbnQgQXdlc29tZSBGcmVlIDYuNy4yIGJ5IEBmb250YXdlc29tZSAtIGh0dHBzOi8vZm9udGF3ZXNvbWUuY29tIExpY2Vuc2UgLSBodHRwczovL2ZvbnRhd2Vzb21lLmNvbS9saWNlbnNlL2ZyZWUgQ29weXJpZ2h0IDIwMjUgRm9udGljb25zLCBJbmMuLS0+PHBhdGggZD0iTTIwOCAwTDMzMi4xIDBjMTIuNyAwIDI0LjkgNS4xIDMzLjkgMTQuMWw2Ny45IDY3LjljOSA5IDE0LjEgMjEuMiAxNC4xIDMzLjlMNDQ4IDMzNmMwIDI2LjUtMjEuNSA0OC00OCA0OGwtMTkyIDBjLTI2LjUgMC00OC0yMS41LTQ4LTQ4bDAtMjg4YzAtMjYuNSAyMS41LTQ4IDQ4LTQ4ek00OCAxMjhsODAgMCAwIDY0LTY0IDAgMCAyNTYgMTkyIDAgMC0zMiA2NCAwIDAgNDhjMCAyNi41LTIxLjUgNDgtNDggNDhMNDggNTEyYy0yNi41IDAtNDgtMjEuNS00OC00OEwwIDE3NmMwLTI2LjUgMjEuNS00OCA0OC00OHoiLz48L3N2Zz4=);\n",
       "    background-repeat: no-repeat;\n",
       "    background-size: 14px 14px;\n",
       "    background-position: 0;\n",
       "    display: inline-block;\n",
       "    width: 14px;\n",
       "    height: 14px;\n",
       "    cursor: pointer;\n",
       "}\n",
       "</style><body><div id=\"sk-container-id-7\" class=\"sk-top-container\"><div class=\"sk-text-repr-fallback\"><pre>RandomForestClassifier(random_state=42)</pre><b>In a Jupyter environment, please rerun this cell to show the HTML representation or trust the notebook. <br />On GitHub, the HTML representation is unable to render, please try loading this page with nbviewer.org.</b></div><div class=\"sk-container\" hidden><div class=\"sk-item\"><div class=\"sk-estimator fitted sk-toggleable\"><input class=\"sk-toggleable__control sk-hidden--visually\" id=\"sk-estimator-id-7\" type=\"checkbox\" checked><label for=\"sk-estimator-id-7\" class=\"sk-toggleable__label fitted sk-toggleable__label-arrow\"><div><div>RandomForestClassifier</div></div><div><a class=\"sk-estimator-doc-link fitted\" rel=\"noreferrer\" target=\"_blank\" href=\"https://scikit-learn.org/1.7/modules/generated/sklearn.ensemble.RandomForestClassifier.html\">?<span>Documentation for RandomForestClassifier</span></a><span class=\"sk-estimator-doc-link fitted\">i<span>Fitted</span></span></div></label><div class=\"sk-toggleable__content fitted\" data-param-prefix=\"\">\n",
       "        <div class=\"estimator-table\">\n",
       "            <details>\n",
       "                <summary>Parameters</summary>\n",
       "                <table class=\"parameters-table\">\n",
       "                  <tbody>\n",
       "                    \n",
       "        <tr class=\"default\">\n",
       "            <td><i class=\"copy-paste-icon\"\n",
       "                 onclick=\"copyToClipboard('n_estimators',\n",
       "                          this.parentElement.nextElementSibling)\"\n",
       "            ></i></td>\n",
       "            <td class=\"param\">n_estimators&nbsp;</td>\n",
       "            <td class=\"value\">100</td>\n",
       "        </tr>\n",
       "    \n",
       "\n",
       "        <tr class=\"default\">\n",
       "            <td><i class=\"copy-paste-icon\"\n",
       "                 onclick=\"copyToClipboard('criterion',\n",
       "                          this.parentElement.nextElementSibling)\"\n",
       "            ></i></td>\n",
       "            <td class=\"param\">criterion&nbsp;</td>\n",
       "            <td class=\"value\">&#x27;gini&#x27;</td>\n",
       "        </tr>\n",
       "    \n",
       "\n",
       "        <tr class=\"default\">\n",
       "            <td><i class=\"copy-paste-icon\"\n",
       "                 onclick=\"copyToClipboard('max_depth',\n",
       "                          this.parentElement.nextElementSibling)\"\n",
       "            ></i></td>\n",
       "            <td class=\"param\">max_depth&nbsp;</td>\n",
       "            <td class=\"value\">None</td>\n",
       "        </tr>\n",
       "    \n",
       "\n",
       "        <tr class=\"default\">\n",
       "            <td><i class=\"copy-paste-icon\"\n",
       "                 onclick=\"copyToClipboard('min_samples_split',\n",
       "                          this.parentElement.nextElementSibling)\"\n",
       "            ></i></td>\n",
       "            <td class=\"param\">min_samples_split&nbsp;</td>\n",
       "            <td class=\"value\">2</td>\n",
       "        </tr>\n",
       "    \n",
       "\n",
       "        <tr class=\"default\">\n",
       "            <td><i class=\"copy-paste-icon\"\n",
       "                 onclick=\"copyToClipboard('min_samples_leaf',\n",
       "                          this.parentElement.nextElementSibling)\"\n",
       "            ></i></td>\n",
       "            <td class=\"param\">min_samples_leaf&nbsp;</td>\n",
       "            <td class=\"value\">1</td>\n",
       "        </tr>\n",
       "    \n",
       "\n",
       "        <tr class=\"default\">\n",
       "            <td><i class=\"copy-paste-icon\"\n",
       "                 onclick=\"copyToClipboard('min_weight_fraction_leaf',\n",
       "                          this.parentElement.nextElementSibling)\"\n",
       "            ></i></td>\n",
       "            <td class=\"param\">min_weight_fraction_leaf&nbsp;</td>\n",
       "            <td class=\"value\">0.0</td>\n",
       "        </tr>\n",
       "    \n",
       "\n",
       "        <tr class=\"default\">\n",
       "            <td><i class=\"copy-paste-icon\"\n",
       "                 onclick=\"copyToClipboard('max_features',\n",
       "                          this.parentElement.nextElementSibling)\"\n",
       "            ></i></td>\n",
       "            <td class=\"param\">max_features&nbsp;</td>\n",
       "            <td class=\"value\">&#x27;sqrt&#x27;</td>\n",
       "        </tr>\n",
       "    \n",
       "\n",
       "        <tr class=\"default\">\n",
       "            <td><i class=\"copy-paste-icon\"\n",
       "                 onclick=\"copyToClipboard('max_leaf_nodes',\n",
       "                          this.parentElement.nextElementSibling)\"\n",
       "            ></i></td>\n",
       "            <td class=\"param\">max_leaf_nodes&nbsp;</td>\n",
       "            <td class=\"value\">None</td>\n",
       "        </tr>\n",
       "    \n",
       "\n",
       "        <tr class=\"default\">\n",
       "            <td><i class=\"copy-paste-icon\"\n",
       "                 onclick=\"copyToClipboard('min_impurity_decrease',\n",
       "                          this.parentElement.nextElementSibling)\"\n",
       "            ></i></td>\n",
       "            <td class=\"param\">min_impurity_decrease&nbsp;</td>\n",
       "            <td class=\"value\">0.0</td>\n",
       "        </tr>\n",
       "    \n",
       "\n",
       "        <tr class=\"default\">\n",
       "            <td><i class=\"copy-paste-icon\"\n",
       "                 onclick=\"copyToClipboard('bootstrap',\n",
       "                          this.parentElement.nextElementSibling)\"\n",
       "            ></i></td>\n",
       "            <td class=\"param\">bootstrap&nbsp;</td>\n",
       "            <td class=\"value\">True</td>\n",
       "        </tr>\n",
       "    \n",
       "\n",
       "        <tr class=\"default\">\n",
       "            <td><i class=\"copy-paste-icon\"\n",
       "                 onclick=\"copyToClipboard('oob_score',\n",
       "                          this.parentElement.nextElementSibling)\"\n",
       "            ></i></td>\n",
       "            <td class=\"param\">oob_score&nbsp;</td>\n",
       "            <td class=\"value\">False</td>\n",
       "        </tr>\n",
       "    \n",
       "\n",
       "        <tr class=\"default\">\n",
       "            <td><i class=\"copy-paste-icon\"\n",
       "                 onclick=\"copyToClipboard('n_jobs',\n",
       "                          this.parentElement.nextElementSibling)\"\n",
       "            ></i></td>\n",
       "            <td class=\"param\">n_jobs&nbsp;</td>\n",
       "            <td class=\"value\">None</td>\n",
       "        </tr>\n",
       "    \n",
       "\n",
       "        <tr class=\"user-set\">\n",
       "            <td><i class=\"copy-paste-icon\"\n",
       "                 onclick=\"copyToClipboard('random_state',\n",
       "                          this.parentElement.nextElementSibling)\"\n",
       "            ></i></td>\n",
       "            <td class=\"param\">random_state&nbsp;</td>\n",
       "            <td class=\"value\">42</td>\n",
       "        </tr>\n",
       "    \n",
       "\n",
       "        <tr class=\"default\">\n",
       "            <td><i class=\"copy-paste-icon\"\n",
       "                 onclick=\"copyToClipboard('verbose',\n",
       "                          this.parentElement.nextElementSibling)\"\n",
       "            ></i></td>\n",
       "            <td class=\"param\">verbose&nbsp;</td>\n",
       "            <td class=\"value\">0</td>\n",
       "        </tr>\n",
       "    \n",
       "\n",
       "        <tr class=\"default\">\n",
       "            <td><i class=\"copy-paste-icon\"\n",
       "                 onclick=\"copyToClipboard('warm_start',\n",
       "                          this.parentElement.nextElementSibling)\"\n",
       "            ></i></td>\n",
       "            <td class=\"param\">warm_start&nbsp;</td>\n",
       "            <td class=\"value\">False</td>\n",
       "        </tr>\n",
       "    \n",
       "\n",
       "        <tr class=\"default\">\n",
       "            <td><i class=\"copy-paste-icon\"\n",
       "                 onclick=\"copyToClipboard('class_weight',\n",
       "                          this.parentElement.nextElementSibling)\"\n",
       "            ></i></td>\n",
       "            <td class=\"param\">class_weight&nbsp;</td>\n",
       "            <td class=\"value\">None</td>\n",
       "        </tr>\n",
       "    \n",
       "\n",
       "        <tr class=\"default\">\n",
       "            <td><i class=\"copy-paste-icon\"\n",
       "                 onclick=\"copyToClipboard('ccp_alpha',\n",
       "                          this.parentElement.nextElementSibling)\"\n",
       "            ></i></td>\n",
       "            <td class=\"param\">ccp_alpha&nbsp;</td>\n",
       "            <td class=\"value\">0.0</td>\n",
       "        </tr>\n",
       "    \n",
       "\n",
       "        <tr class=\"default\">\n",
       "            <td><i class=\"copy-paste-icon\"\n",
       "                 onclick=\"copyToClipboard('max_samples',\n",
       "                          this.parentElement.nextElementSibling)\"\n",
       "            ></i></td>\n",
       "            <td class=\"param\">max_samples&nbsp;</td>\n",
       "            <td class=\"value\">None</td>\n",
       "        </tr>\n",
       "    \n",
       "\n",
       "        <tr class=\"default\">\n",
       "            <td><i class=\"copy-paste-icon\"\n",
       "                 onclick=\"copyToClipboard('monotonic_cst',\n",
       "                          this.parentElement.nextElementSibling)\"\n",
       "            ></i></td>\n",
       "            <td class=\"param\">monotonic_cst&nbsp;</td>\n",
       "            <td class=\"value\">None</td>\n",
       "        </tr>\n",
       "    \n",
       "                  </tbody>\n",
       "                </table>\n",
       "            </details>\n",
       "        </div>\n",
       "    </div></div></div></div></div><script>function copyToClipboard(text, element) {\n",
       "    // Get the parameter prefix from the closest toggleable content\n",
       "    const toggleableContent = element.closest('.sk-toggleable__content');\n",
       "    const paramPrefix = toggleableContent ? toggleableContent.dataset.paramPrefix : '';\n",
       "    const fullParamName = paramPrefix ? `${paramPrefix}${text}` : text;\n",
       "\n",
       "    const originalStyle = element.style;\n",
       "    const computedStyle = window.getComputedStyle(element);\n",
       "    const originalWidth = computedStyle.width;\n",
       "    const originalHTML = element.innerHTML.replace('Copied!', '');\n",
       "\n",
       "    navigator.clipboard.writeText(fullParamName)\n",
       "        .then(() => {\n",
       "            element.style.width = originalWidth;\n",
       "            element.style.color = 'green';\n",
       "            element.innerHTML = \"Copied!\";\n",
       "\n",
       "            setTimeout(() => {\n",
       "                element.innerHTML = originalHTML;\n",
       "                element.style = originalStyle;\n",
       "            }, 2000);\n",
       "        })\n",
       "        .catch(err => {\n",
       "            console.error('Failed to copy:', err);\n",
       "            element.style.color = 'red';\n",
       "            element.innerHTML = \"Failed!\";\n",
       "            setTimeout(() => {\n",
       "                element.innerHTML = originalHTML;\n",
       "                element.style = originalStyle;\n",
       "            }, 2000);\n",
       "        });\n",
       "    return false;\n",
       "}\n",
       "\n",
       "document.querySelectorAll('.fa-regular.fa-copy').forEach(function(element) {\n",
       "    const toggleableContent = element.closest('.sk-toggleable__content');\n",
       "    const paramPrefix = toggleableContent ? toggleableContent.dataset.paramPrefix : '';\n",
       "    const paramName = element.parentElement.nextElementSibling.textContent.trim();\n",
       "    const fullParamName = paramPrefix ? `${paramPrefix}${paramName}` : paramName;\n",
       "\n",
       "    element.setAttribute('title', fullParamName);\n",
       "});\n",
       "</script></body>"
      ],
      "text/plain": [
       "RandomForestClassifier(random_state=42)"
      ]
     },
     "execution_count": 71,
     "metadata": {},
     "output_type": "execute_result"
    }
   ],
   "source": [
    "# Train separate models for each group\n",
    "\n",
    "# What's happening here?\n",
    "# We're creating two models, one that predicts the outcome for the treated group, and one that predicts the outcome for the control group.\n",
    "model_treated = RandomForestClassifier(n_estimators=100, random_state=42)\n",
    "model_control = RandomForestClassifier(n_estimators=100, random_state=42)\n",
    "\n",
    "model_treated.fit(X_treated, y_treated)\n",
    "model_control.fit(X_control, y_control)"
   ]
  },
  {
   "cell_type": "code",
   "execution_count": 72,
   "metadata": {},
   "outputs": [],
   "source": [
    "# MAGIC STEP:\n",
    "# Predict outcomes for all individuals under both treatments\n",
    "y_pred_treated = model_treated.predict_proba(X)[:, 1]\n",
    "y_pred_control = model_control.predict_proba(X)[:, 1]"
   ]
  },
  {
   "cell_type": "code",
   "execution_count": 73,
   "metadata": {},
   "outputs": [
    {
     "data": {
      "text/html": [
       "<pre style=\"white-space:pre;overflow-x:auto;line-height:normal;font-family:Menlo,'DejaVu Sans Mono',consolas,'Courier New',monospace\">T-learner Average Treatment Effect: <span style=\"color: #008080; text-decoration-color: #008080; font-weight: bold\">-0.052</span>\n",
       "</pre>\n"
      ],
      "text/plain": [
       "T-learner Average Treatment Effect: \u001b[1;36m-0.052\u001b[0m\n"
      ]
     },
     "metadata": {},
     "output_type": "display_data"
    },
    {
     "data": {
      "text/html": [
       "<pre style=\"white-space:pre;overflow-x:auto;line-height:normal;font-family:Menlo,'DejaVu Sans Mono',consolas,'Courier New',monospace\">Standard deviation of ITEs: <span style=\"color: #008080; text-decoration-color: #008080; font-weight: bold\">0.069</span>\n",
       "</pre>\n"
      ],
      "text/plain": [
       "Standard deviation of ITEs: \u001b[1;36m0.069\u001b[0m\n"
      ]
     },
     "metadata": {},
     "output_type": "display_data"
    }
   ],
   "source": [
    "individual_treatment_effects = y_pred_treated - y_pred_control\n",
    "ate_t_learner = individual_treatment_effects.mean()\n",
    "\n",
    "print(f\"T-learner Average Treatment Effect: {ate_t_learner:.3f}\")\n",
    "print(f\"Standard deviation of ITEs: {individual_treatment_effects.std():.3f}\")"
   ]
  },
  {
   "cell_type": "code",
   "execution_count": 76,
   "metadata": {},
   "outputs": [
    {
     "data": {
      "text/html": [
       "<pre style=\"white-space:pre;overflow-x:auto;line-height:normal;font-family:Menlo,'DejaVu Sans Mono',consolas,'Courier New',monospace\">\n",
       "Comparison:\n",
       "</pre>\n"
      ],
      "text/plain": [
       "\n",
       "Comparison:\n"
      ]
     },
     "metadata": {},
     "output_type": "display_data"
    },
    {
     "data": {
      "text/html": [
       "<pre style=\"white-space:pre;overflow-x:auto;line-height:normal;font-family:Menlo,'DejaVu Sans Mono',consolas,'Courier New',monospace\">T-learner ATE: <span style=\"color: #008080; text-decoration-color: #008080; font-weight: bold\">-0.052</span>\n",
       "</pre>\n"
      ],
      "text/plain": [
       "T-learner ATE: \u001b[1;36m-0.052\u001b[0m\n"
      ]
     },
     "metadata": {},
     "output_type": "display_data"
    },
    {
     "data": {
      "text/html": [
       "<pre style=\"white-space:pre;overflow-x:auto;line-height:normal;font-family:Menlo,'DejaVu Sans Mono',consolas,'Courier New',monospace\">IPW ATE: <span style=\"color: #008080; text-decoration-color: #008080; font-weight: bold\">-0.024</span>\n",
       "</pre>\n"
      ],
      "text/plain": [
       "IPW ATE: \u001b[1;36m-0.024\u001b[0m\n"
      ]
     },
     "metadata": {},
     "output_type": "display_data"
    },
    {
     "data": {
      "text/html": [
       "<pre style=\"white-space:pre;overflow-x:auto;line-height:normal;font-family:Menlo,'DejaVu Sans Mono',consolas,'Courier New',monospace\">Age-stratified ATE: <span style=\"color: #008080; text-decoration-color: #008080; font-weight: bold\">-0.051</span>\n",
       "</pre>\n"
      ],
      "text/plain": [
       "Age-stratified ATE: \u001b[1;36m-0.051\u001b[0m\n"
      ]
     },
     "metadata": {},
     "output_type": "display_data"
    },
    {
     "data": {
      "text/html": [
       "<pre style=\"white-space:pre;overflow-x:auto;line-height:normal;font-family:Menlo,'DejaVu Sans Mono',consolas,'Courier New',monospace\">\n",
       "Treatment effect heterogeneity by age group:\n",
       "</pre>\n"
      ],
      "text/plain": [
       "\n",
       "Treatment effect heterogeneity by age group:\n"
      ]
     },
     "metadata": {},
     "output_type": "display_data"
    },
    {
     "data": {
      "text/html": [
       "<pre style=\"white-space:pre;overflow-x:auto;line-height:normal;font-family:Menlo,'DejaVu Sans Mono',consolas,'Courier New',monospace\">               mean       std  count\n",
       "age_group                           \n",
       "<span style=\"color: #008080; text-decoration-color: #008080; font-weight: bold\">0</span>         <span style=\"color: #008080; text-decoration-color: #008080; font-weight: bold\">-0.037710</span>  <span style=\"color: #008080; text-decoration-color: #008080; font-weight: bold\">0.050337</span>    <span style=\"color: #008080; text-decoration-color: #008080; font-weight: bold\">715</span>\n",
       "<span style=\"color: #008080; text-decoration-color: #008080; font-weight: bold\">1</span>         <span style=\"color: #008080; text-decoration-color: #008080; font-weight: bold\">-0.021190</span>  <span style=\"color: #008080; text-decoration-color: #008080; font-weight: bold\">0.031531</span>   <span style=\"color: #008080; text-decoration-color: #008080; font-weight: bold\">2269</span>\n",
       "<span style=\"color: #008080; text-decoration-color: #008080; font-weight: bold\">2</span>         <span style=\"color: #008080; text-decoration-color: #008080; font-weight: bold\">-0.040193</span>  <span style=\"color: #008080; text-decoration-color: #008080; font-weight: bold\">0.023251</span>   <span style=\"color: #008080; text-decoration-color: #008080; font-weight: bold\">3316</span>\n",
       "<span style=\"color: #008080; text-decoration-color: #008080; font-weight: bold\">3</span>         <span style=\"color: #008080; text-decoration-color: #008080; font-weight: bold\">-0.031498</span>  <span style=\"color: #008080; text-decoration-color: #008080; font-weight: bold\">0.019211</span>   <span style=\"color: #008080; text-decoration-color: #008080; font-weight: bold\">3979</span>\n",
       "<span style=\"color: #008080; text-decoration-color: #008080; font-weight: bold\">4</span>         <span style=\"color: #008080; text-decoration-color: #008080; font-weight: bold\">-0.024457</span>  <span style=\"color: #008080; text-decoration-color: #008080; font-weight: bold\">0.029963</span>   <span style=\"color: #008080; text-decoration-color: #008080; font-weight: bold\">4396</span>\n",
       "<span style=\"color: #008080; text-decoration-color: #008080; font-weight: bold\">5</span>         <span style=\"color: #008080; text-decoration-color: #008080; font-weight: bold\">-0.031773</span>  <span style=\"color: #008080; text-decoration-color: #008080; font-weight: bold\">0.022819</span>   <span style=\"color: #008080; text-decoration-color: #008080; font-weight: bold\">4422</span>\n",
       "<span style=\"color: #008080; text-decoration-color: #008080; font-weight: bold\">6</span>         <span style=\"color: #008080; text-decoration-color: #008080; font-weight: bold\">-0.079738</span>  <span style=\"color: #008080; text-decoration-color: #008080; font-weight: bold\">0.075710</span>   <span style=\"color: #008080; text-decoration-color: #008080; font-weight: bold\">4255</span>\n",
       "<span style=\"color: #008080; text-decoration-color: #008080; font-weight: bold\">7</span>         <span style=\"color: #008080; text-decoration-color: #008080; font-weight: bold\">-0.103946</span>  <span style=\"color: #008080; text-decoration-color: #008080; font-weight: bold\">0.052737</span>   <span style=\"color: #008080; text-decoration-color: #008080; font-weight: bold\">3472</span>\n",
       "<span style=\"color: #008080; text-decoration-color: #008080; font-weight: bold\">8</span>         <span style=\"color: #008080; text-decoration-color: #008080; font-weight: bold\">-0.099286</span>  <span style=\"color: #008080; text-decoration-color: #008080; font-weight: bold\">0.152523</span>   <span style=\"color: #008080; text-decoration-color: #008080; font-weight: bold\">2241</span>\n",
       "<span style=\"color: #008080; text-decoration-color: #008080; font-weight: bold\">9</span>         <span style=\"color: #008080; text-decoration-color: #008080; font-weight: bold\">-0.057523</span>  <span style=\"color: #008080; text-decoration-color: #008080; font-weight: bold\">0.133513</span>    <span style=\"color: #008080; text-decoration-color: #008080; font-weight: bold\">932</span>\n",
       "<span style=\"color: #008080; text-decoration-color: #008080; font-weight: bold\">10</span>        <span style=\"color: #008080; text-decoration-color: #008080; font-weight: bold\">-0.242658</span>  <span style=\"color: #008080; text-decoration-color: #008080; font-weight: bold\">0.000000</span>      <span style=\"color: #008080; text-decoration-color: #008080; font-weight: bold\">3</span>\n",
       "</pre>\n"
      ],
      "text/plain": [
       "               mean       std  count\n",
       "age_group                           \n",
       "\u001b[1;36m0\u001b[0m         \u001b[1;36m-0.037710\u001b[0m  \u001b[1;36m0.050337\u001b[0m    \u001b[1;36m715\u001b[0m\n",
       "\u001b[1;36m1\u001b[0m         \u001b[1;36m-0.021190\u001b[0m  \u001b[1;36m0.031531\u001b[0m   \u001b[1;36m2269\u001b[0m\n",
       "\u001b[1;36m2\u001b[0m         \u001b[1;36m-0.040193\u001b[0m  \u001b[1;36m0.023251\u001b[0m   \u001b[1;36m3316\u001b[0m\n",
       "\u001b[1;36m3\u001b[0m         \u001b[1;36m-0.031498\u001b[0m  \u001b[1;36m0.019211\u001b[0m   \u001b[1;36m3979\u001b[0m\n",
       "\u001b[1;36m4\u001b[0m         \u001b[1;36m-0.024457\u001b[0m  \u001b[1;36m0.029963\u001b[0m   \u001b[1;36m4396\u001b[0m\n",
       "\u001b[1;36m5\u001b[0m         \u001b[1;36m-0.031773\u001b[0m  \u001b[1;36m0.022819\u001b[0m   \u001b[1;36m4422\u001b[0m\n",
       "\u001b[1;36m6\u001b[0m         \u001b[1;36m-0.079738\u001b[0m  \u001b[1;36m0.075710\u001b[0m   \u001b[1;36m4255\u001b[0m\n",
       "\u001b[1;36m7\u001b[0m         \u001b[1;36m-0.103946\u001b[0m  \u001b[1;36m0.052737\u001b[0m   \u001b[1;36m3472\u001b[0m\n",
       "\u001b[1;36m8\u001b[0m         \u001b[1;36m-0.099286\u001b[0m  \u001b[1;36m0.152523\u001b[0m   \u001b[1;36m2241\u001b[0m\n",
       "\u001b[1;36m9\u001b[0m         \u001b[1;36m-0.057523\u001b[0m  \u001b[1;36m0.133513\u001b[0m    \u001b[1;36m932\u001b[0m\n",
       "\u001b[1;36m10\u001b[0m        \u001b[1;36m-0.242658\u001b[0m  \u001b[1;36m0.000000\u001b[0m      \u001b[1;36m3\u001b[0m\n"
      ]
     },
     "metadata": {},
     "output_type": "display_data"
    }
   ],
   "source": [
    "# Compare with our previous estimates\n",
    "print(f\"\\nComparison:\")\n",
    "print(f\"T-learner ATE: {ate_t_learner:.3f}\")\n",
    "print(f\"IPW ATE: {treatment_effect:.3f}\")\n",
    "print(\n",
    "    f\"Age-stratified ATE: {unstacked['weighted_effect'].sum() / unstacked['count'].sum():.3f}\"\n",
    ")\n",
    "\n",
    "# Look at treatment effect heterogeneity by age\n",
    "data[\"ite\"] = individual_treatment_effects\n",
    "age_groups = data.groupby(\"age_group\")[\"ite\"].agg([\"mean\", \"std\", \"count\"])\n",
    "print(f\"\\nTreatment effect heterogeneity by age group:\")\n",
    "print(age_groups)"
   ]
  },
  {
   "cell_type": "code",
   "execution_count": 75,
   "metadata": {},
   "outputs": [],
   "source": [
    "# Congratulations, you're close to the cutting edge of causal inference!\n",
    "# https://arxiv.org/pdf/1706.03461"
   ]
  },
  {
   "cell_type": "markdown",
   "metadata": {},
   "source": [
    "# What we covered here\n",
    "\n",
    "1. The question of \"what will happen to Y if I change X\" is actually quite nuanced and requires some thinking.\n",
    "2. We learned about confounding, and how \"controlling for\" a confounder is very important\n",
    "3. Once we've identified a good set of covariates, how to build simple estimators to tell us the impact of these interventions.\n",
    "4. The notion of ATE and ITE.\n",
    "\n",
    "Follow-up question:\n",
    "\n",
    "- How do we know which variables to select? Can I just throw all of them in?\n"
   ]
  }
 ],
 "metadata": {
  "kernelspec": {
   "display_name": ".venv",
   "language": "python",
   "name": "python3"
  },
  "language_info": {
   "codemirror_mode": {
    "name": "ipython",
    "version": 3
   },
   "file_extension": ".py",
   "mimetype": "text/x-python",
   "name": "python",
   "nbconvert_exporter": "python",
   "pygments_lexer": "ipython3",
   "version": "3.12.8"
  }
 },
 "nbformat": 4,
 "nbformat_minor": 2
}
