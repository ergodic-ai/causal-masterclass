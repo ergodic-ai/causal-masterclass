{
 "cells": [
  {
   "cell_type": "code",
   "execution_count": 9,
   "metadata": {},
   "outputs": [
    {
     "data": {
      "text/html": [
       "<pre style=\"white-space:pre;overflow-x:auto;line-height:normal;font-family:Menlo,'DejaVu Sans Mono',consolas,'Courier New',monospace\"><span style=\"color: #800080; text-decoration-color: #800080\">/Users/andre/ergodic/</span><span style=\"color: #ff00ff; text-decoration-color: #ff00ff\">tutai</span>\n",
       "</pre>\n"
      ],
      "text/plain": [
       "\u001b[35m/Users/andre/ergodic/\u001b[0m\u001b[95mtutai\u001b[0m\n"
      ]
     },
     "metadata": {},
     "output_type": "display_data"
    }
   ],
   "source": [
    "import pandas as pd\n",
    "import numpy as np\n",
    "import os\n",
    "from rich import print\n",
    "\n",
    "try:\n",
    "    __SETUP\n",
    "except:\n",
    "    # if we are in the notebooks folder, go up one level\n",
    "    path = os.getcwd()\n",
    "    if path.endswith(\"notebooks\"):\n",
    "        os.chdir(\"..\")\n",
    "    __SETUP = 1\n",
    "\n",
    "print(os.getcwd())"
   ]
  },
  {
   "cell_type": "markdown",
   "metadata": {},
   "source": [
    "# More complexity\n",
    "\n",
    "You got tired of office politics and you're now Lead Data Scientist for a hedge fund. Your life is devoid of meaning but the pay is good. Your boss read a [book by MLdP](https://www.amazon.co.uk/Causal-Factor-Investing-Scientific-Quantitative/dp/100939729X) and now wants you to understand which causal relationships actually exist, given the data. It's all very secretive so you have no idea what things are, and the last person who asked too many questions disappeared the next day. So what can you do?\n"
   ]
  },
  {
   "cell_type": "code",
   "execution_count": 10,
   "metadata": {},
   "outputs": [],
   "source": [
    "data = pd.read_csv(\"data/cg_data.csv\", index_col=0)"
   ]
  },
  {
   "cell_type": "code",
   "execution_count": 11,
   "metadata": {},
   "outputs": [
    {
     "data": {
      "text/html": [
       "<div>\n",
       "<style scoped>\n",
       "    .dataframe tbody tr th:only-of-type {\n",
       "        vertical-align: middle;\n",
       "    }\n",
       "\n",
       "    .dataframe tbody tr th {\n",
       "        vertical-align: top;\n",
       "    }\n",
       "\n",
       "    .dataframe thead th {\n",
       "        text-align: right;\n",
       "    }\n",
       "</style>\n",
       "<table border=\"1\" class=\"dataframe\">\n",
       "  <thead>\n",
       "    <tr style=\"text-align: right;\">\n",
       "      <th></th>\n",
       "      <th>x</th>\n",
       "      <th>z</th>\n",
       "      <th>y</th>\n",
       "      <th>ya</th>\n",
       "      <th>w</th>\n",
       "    </tr>\n",
       "  </thead>\n",
       "  <tbody>\n",
       "    <tr>\n",
       "      <th>x</th>\n",
       "      <td>1.000000</td>\n",
       "      <td>0.406713</td>\n",
       "      <td>0.325887</td>\n",
       "      <td>0.171090</td>\n",
       "      <td>0.408887</td>\n",
       "    </tr>\n",
       "    <tr>\n",
       "      <th>z</th>\n",
       "      <td>0.406713</td>\n",
       "      <td>1.000000</td>\n",
       "      <td>0.408865</td>\n",
       "      <td>0.219659</td>\n",
       "      <td>-0.003533</td>\n",
       "    </tr>\n",
       "    <tr>\n",
       "      <th>y</th>\n",
       "      <td>0.325887</td>\n",
       "      <td>0.408865</td>\n",
       "      <td>1.000000</td>\n",
       "      <td>0.525479</td>\n",
       "      <td>0.405017</td>\n",
       "    </tr>\n",
       "    <tr>\n",
       "      <th>ya</th>\n",
       "      <td>0.171090</td>\n",
       "      <td>0.219659</td>\n",
       "      <td>0.525479</td>\n",
       "      <td>1.000000</td>\n",
       "      <td>0.210000</td>\n",
       "    </tr>\n",
       "    <tr>\n",
       "      <th>w</th>\n",
       "      <td>0.408887</td>\n",
       "      <td>-0.003533</td>\n",
       "      <td>0.405017</td>\n",
       "      <td>0.210000</td>\n",
       "      <td>1.000000</td>\n",
       "    </tr>\n",
       "  </tbody>\n",
       "</table>\n",
       "</div>"
      ],
      "text/plain": [
       "           x         z         y        ya         w\n",
       "x   1.000000  0.406713  0.325887  0.171090  0.408887\n",
       "z   0.406713  1.000000  0.408865  0.219659 -0.003533\n",
       "y   0.325887  0.408865  1.000000  0.525479  0.405017\n",
       "ya  0.171090  0.219659  0.525479  1.000000  0.210000\n",
       "w   0.408887 -0.003533  0.405017  0.210000  1.000000"
      ]
     },
     "execution_count": 11,
     "metadata": {},
     "output_type": "execute_result"
    }
   ],
   "source": [
    "data.corr()"
   ]
  },
  {
   "cell_type": "code",
   "execution_count": null,
   "metadata": {},
   "outputs": [],
   "source": []
  }
 ],
 "metadata": {
  "kernelspec": {
   "display_name": ".venv",
   "language": "python",
   "name": "python3"
  },
  "language_info": {
   "codemirror_mode": {
    "name": "ipython",
    "version": 3
   },
   "file_extension": ".py",
   "mimetype": "text/x-python",
   "name": "python",
   "nbconvert_exporter": "python",
   "pygments_lexer": "ipython3",
   "version": "3.12.8"
  }
 },
 "nbformat": 4,
 "nbformat_minor": 2
}
